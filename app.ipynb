{
 "cells": [
  {
   "cell_type": "code",
   "execution_count": 2,
   "id": "75bdbc44",
   "metadata": {},
   "outputs": [
    {
     "name": "stdout",
     "output_type": "stream",
     "text": [
      "Collecting yfinance\n",
      "  Downloading yfinance-0.2.28-py2.py3-none-any.whl (65 kB)\n",
      "\u001b[2K     \u001b[90m━━━━━━━━━━━━━━━━━━━━━━━━━━━━━━━━━━━━━━━\u001b[0m \u001b[32m65.3/65.3 kB\u001b[0m \u001b[31m774.3 kB/s\u001b[0m eta \u001b[36m0:00:00\u001b[0ma \u001b[36m0:00:01\u001b[0m\n",
      "\u001b[?25hRequirement already satisfied: pandas>=1.3.0 in /Users/axjh03/anaconda3/lib/python3.10/site-packages (from yfinance) (1.5.3)\n",
      "Requirement already satisfied: numpy>=1.16.5 in /Users/axjh03/anaconda3/lib/python3.10/site-packages (from yfinance) (1.24.3)\n",
      "Collecting requests>=2.31 (from yfinance)\n",
      "  Downloading requests-2.31.0-py3-none-any.whl (62 kB)\n",
      "\u001b[2K     \u001b[90m━━━━━━━━━━━━━━━━━━━━━━━━━━━━━━━━━━━━━━━━\u001b[0m \u001b[32m62.6/62.6 kB\u001b[0m \u001b[31m2.8 MB/s\u001b[0m eta \u001b[36m0:00:00\u001b[0m\n",
      "\u001b[?25hCollecting multitasking>=0.0.7 (from yfinance)\n",
      "  Using cached multitasking-0.0.11-py3-none-any.whl (8.5 kB)\n",
      "Requirement already satisfied: lxml>=4.9.1 in /Users/axjh03/anaconda3/lib/python3.10/site-packages (from yfinance) (4.9.1)\n",
      "Requirement already satisfied: appdirs>=1.4.4 in /Users/axjh03/anaconda3/lib/python3.10/site-packages (from yfinance) (1.4.4)\n",
      "Requirement already satisfied: pytz>=2022.5 in /Users/axjh03/anaconda3/lib/python3.10/site-packages (from yfinance) (2022.7)\n",
      "Collecting frozendict>=2.3.4 (from yfinance)\n",
      "  Using cached frozendict-2.3.8-cp310-cp310-macosx_11_0_arm64.whl (35 kB)\n",
      "Requirement already satisfied: beautifulsoup4>=4.11.1 in /Users/axjh03/anaconda3/lib/python3.10/site-packages (from yfinance) (4.11.1)\n",
      "Collecting html5lib>=1.1 (from yfinance)\n",
      "  Using cached html5lib-1.1-py2.py3-none-any.whl (112 kB)\n",
      "Requirement already satisfied: soupsieve>1.2 in /Users/axjh03/anaconda3/lib/python3.10/site-packages (from beautifulsoup4>=4.11.1->yfinance) (2.3.2.post1)\n",
      "Requirement already satisfied: six>=1.9 in /Users/axjh03/anaconda3/lib/python3.10/site-packages (from html5lib>=1.1->yfinance) (1.16.0)\n",
      "Requirement already satisfied: webencodings in /Users/axjh03/anaconda3/lib/python3.10/site-packages (from html5lib>=1.1->yfinance) (0.5.1)\n",
      "Requirement already satisfied: python-dateutil>=2.8.1 in /Users/axjh03/anaconda3/lib/python3.10/site-packages (from pandas>=1.3.0->yfinance) (2.8.2)\n",
      "Requirement already satisfied: charset-normalizer<4,>=2 in /Users/axjh03/anaconda3/lib/python3.10/site-packages (from requests>=2.31->yfinance) (2.0.4)\n",
      "Requirement already satisfied: idna<4,>=2.5 in /Users/axjh03/anaconda3/lib/python3.10/site-packages (from requests>=2.31->yfinance) (3.4)\n",
      "Requirement already satisfied: urllib3<3,>=1.21.1 in /Users/axjh03/anaconda3/lib/python3.10/site-packages (from requests>=2.31->yfinance) (1.26.14)\n",
      "Requirement already satisfied: certifi>=2017.4.17 in /Users/axjh03/anaconda3/lib/python3.10/site-packages (from requests>=2.31->yfinance) (2023.5.7)\n",
      "Installing collected packages: multitasking, requests, html5lib, frozendict, yfinance\n",
      "  Attempting uninstall: requests\n",
      "    Found existing installation: requests 2.28.1\n",
      "    Uninstalling requests-2.28.1:\n",
      "      Successfully uninstalled requests-2.28.1\n",
      "\u001b[31mERROR: pip's dependency resolver does not currently take into account all the packages that are installed. This behaviour is the source of the following dependency conflicts.\n",
      "conda-repo-cli 1.0.41 requires requests_mock, which is not installed.\n",
      "spyder 5.4.1 requires pyqt5<5.16, which is not installed.\n",
      "spyder 5.4.1 requires pyqtwebengine<5.16, which is not installed.\n",
      "conda-repo-cli 1.0.41 requires clyent==1.2.1, but you have clyent 1.2.2 which is incompatible.\n",
      "conda-repo-cli 1.0.41 requires nbformat==5.4.0, but you have nbformat 5.7.0 which is incompatible.\n",
      "conda-repo-cli 1.0.41 requires requests==2.28.1, but you have requests 2.31.0 which is incompatible.\u001b[0m\u001b[31m\n",
      "\u001b[0mSuccessfully installed frozendict-2.3.8 html5lib-1.1 multitasking-0.0.11 requests-2.31.0 yfinance-0.2.28\n",
      "\n",
      "\u001b[1m[\u001b[0m\u001b[34;49mnotice\u001b[0m\u001b[1;39;49m]\u001b[0m\u001b[39;49m A new release of pip is available: \u001b[0m\u001b[31;49m23.1.2\u001b[0m\u001b[39;49m -> \u001b[0m\u001b[32;49m23.2.1\u001b[0m\n",
      "\u001b[1m[\u001b[0m\u001b[34;49mnotice\u001b[0m\u001b[1;39;49m]\u001b[0m\u001b[39;49m To update, run: \u001b[0m\u001b[32;49mpip install --upgrade pip\u001b[0m\n"
     ]
    }
   ],
   "source": [
    "!pip install yfinance"
   ]
  },
  {
   "cell_type": "code",
   "execution_count": 4,
   "id": "326564d0",
   "metadata": {},
   "outputs": [
    {
     "name": "stdout",
     "output_type": "stream",
     "text": [
      "Collecting textblob\n",
      "  Downloading textblob-0.17.1-py2.py3-none-any.whl (636 kB)\n",
      "\u001b[2K     \u001b[90m━━━━━━━━━━━━━━━━━━━━━━━━━━━━━━━━━━━━━━━\u001b[0m \u001b[32m636.8/636.8 kB\u001b[0m \u001b[31m2.9 MB/s\u001b[0m eta \u001b[36m0:00:00\u001b[0ma \u001b[36m0:00:01\u001b[0m\n",
      "\u001b[?25hRequirement already satisfied: nltk>=3.1 in /Users/axjh03/anaconda3/lib/python3.10/site-packages (from textblob) (3.7)\n",
      "Requirement already satisfied: click in /Users/axjh03/anaconda3/lib/python3.10/site-packages (from nltk>=3.1->textblob) (8.0.4)\n",
      "Requirement already satisfied: joblib in /Users/axjh03/anaconda3/lib/python3.10/site-packages (from nltk>=3.1->textblob) (1.1.1)\n",
      "Requirement already satisfied: regex>=2021.8.3 in /Users/axjh03/anaconda3/lib/python3.10/site-packages (from nltk>=3.1->textblob) (2022.7.9)\n",
      "Requirement already satisfied: tqdm in /Users/axjh03/anaconda3/lib/python3.10/site-packages (from nltk>=3.1->textblob) (4.64.1)\n",
      "Installing collected packages: textblob\n",
      "Successfully installed textblob-0.17.1\n",
      "\n",
      "\u001b[1m[\u001b[0m\u001b[34;49mnotice\u001b[0m\u001b[1;39;49m]\u001b[0m\u001b[39;49m A new release of pip is available: \u001b[0m\u001b[31;49m23.1.2\u001b[0m\u001b[39;49m -> \u001b[0m\u001b[32;49m23.2.1\u001b[0m\n",
      "\u001b[1m[\u001b[0m\u001b[34;49mnotice\u001b[0m\u001b[1;39;49m]\u001b[0m\u001b[39;49m To update, run: \u001b[0m\u001b[32;49mpip install --upgrade pip\u001b[0m\n"
     ]
    }
   ],
   "source": [
    "!pip install textblob"
   ]
  },
  {
   "cell_type": "code",
   "execution_count": 5,
   "id": "02935554",
   "metadata": {},
   "outputs": [
    {
     "name": "stdout",
     "output_type": "stream",
     "text": [
      "Requirement already satisfied: pip in /Users/axjh03/anaconda3/lib/python3.10/site-packages (23.1.2)\n",
      "Collecting pip\n",
      "  Downloading pip-23.2.1-py3-none-any.whl (2.1 MB)\n",
      "\u001b[2K     \u001b[90m━━━━━━━━━━━━━━━━━━━━━━━━━━━━━━━━━━━━━━━━\u001b[0m \u001b[32m2.1/2.1 MB\u001b[0m \u001b[31m8.2 MB/s\u001b[0m eta \u001b[36m0:00:00\u001b[0ma \u001b[36m0:00:01\u001b[0m0m\n",
      "\u001b[?25hInstalling collected packages: pip\n",
      "  Attempting uninstall: pip\n",
      "    Found existing installation: pip 23.1.2\n",
      "    Uninstalling pip-23.1.2:\n",
      "      Successfully uninstalled pip-23.1.2\n",
      "Successfully installed pip-23.2.1\n"
     ]
    }
   ],
   "source": [
    "!pip install --upgrade pip"
   ]
  },
  {
   "cell_type": "code",
   "execution_count": 48,
   "id": "1bccb23f",
   "metadata": {},
   "outputs": [
    {
     "name": "stdout",
     "output_type": "stream",
     "text": [
      "Predicted price: 176.90665664672852\n",
      "Current price: 177.02\n",
      "SELL - Expected Return: 2.49% 1 week later\n",
      "Already bought - Hold for more returns:\n",
      "Return in 1 days: -0.07%\n",
      "Return in 2 days: 0.02%\n",
      "Return in 5 days: 0.18%\n",
      "Return in 7 days: 2.49%\n"
     ]
    },
    {
     "name": "stderr",
     "output_type": "stream",
     "text": [
      "/Users/axjh03/anaconda3/lib/python3.10/site-packages/sklearn/base.py:420: UserWarning: X does not have valid feature names, but RandomForestRegressor was fitted with feature names\n",
      "  warnings.warn(\n",
      "/Users/axjh03/anaconda3/lib/python3.10/site-packages/sklearn/base.py:420: UserWarning: X does not have valid feature names, but RandomForestRegressor was fitted with feature names\n",
      "  warnings.warn(\n",
      "/Users/axjh03/anaconda3/lib/python3.10/site-packages/sklearn/base.py:420: UserWarning: X does not have valid feature names, but RandomForestRegressor was fitted with feature names\n",
      "  warnings.warn(\n",
      "/Users/axjh03/anaconda3/lib/python3.10/site-packages/sklearn/base.py:420: UserWarning: X does not have valid feature names, but RandomForestRegressor was fitted with feature names\n",
      "  warnings.warn(\n",
      "/Users/axjh03/anaconda3/lib/python3.10/site-packages/sklearn/base.py:420: UserWarning: X does not have valid feature names, but RandomForestRegressor was fitted with feature names\n",
      "  warnings.warn(\n"
     ]
    }
   ],
   "source": [
    "import yfinance as yf\n",
    "import talib\n",
    "import numpy as np\n",
    "import pandas as pd\n",
    "from sklearn.impute import SimpleImputer\n",
    "from textblob import TextBlob\n",
    "from sklearn.ensemble import RandomForestRegressor\n",
    "\n",
    "symbol = \"AAPL\"  # Stock symbol\n",
    "\n",
    "# Get data\n",
    "stock = yf.Ticker(symbol)\n",
    "hist = stock.history(period=\"max\")\n",
    "\n",
    "# Technical indicators\n",
    "hist['rsi'] = talib.RSI(hist['Close'])\n",
    "\n",
    "macd, macdsignal, macdhist = talib.MACD(hist['Close'])\n",
    "hist['macd'] = macd\n",
    "\n",
    "hist['sma50'] = talib.SMA(hist['Close'], timeperiod=50)\n",
    "hist['sma200'] = talib.SMA(hist['Close'], timeperiod=200)\n",
    "\n",
    "bbands = talib.BBANDS(hist['Close'])\n",
    "upper, middle, lower = bbands\n",
    "hist['bb_upper'] = upper\n",
    "\n",
    "# Fundamentals\n",
    "pe_ratio = stock.info['trailingPE']\n",
    "pb_ratio = stock.info['priceToBook']\n",
    "\n",
    "# News sentiment\n",
    "news_title = stock.news[0]['title']\n",
    "news = TextBlob(news_title)\n",
    "sentiment = news.sentiment.polarity\n",
    "\n",
    "# Merge fundamentals and sentiment\n",
    "sentiment_series = pd.Series(sentiment, index=hist.index, name='sentiment')\n",
    "pb_series = pd.Series(pb_ratio, index=hist.index, name='pb_ratio')\n",
    "pe_series = pd.Series(pe_ratio, index=hist.index, name='pe_ratio')\n",
    "\n",
    "hist = hist.join([sentiment_series, pb_series, pe_series])\n",
    "\n",
    "# Remove rows with missing values\n",
    "hist.dropna(inplace=True)\n",
    "\n",
    "# Separate features and target\n",
    "X = hist[['rsi', 'macd', 'sma50', 'sma200', 'bb_upper', 'pe_ratio', 'pb_ratio', 'sentiment']]\n",
    "y = hist['Close']\n",
    "\n",
    "# Ensemble model\n",
    "ensemble = RandomForestRegressor()\n",
    "\n",
    "# Fit the ensemble model\n",
    "ensemble.fit(X, y)\n",
    "\n",
    "# Print recommendation\n",
    "current_features = X.iloc[-1].values.reshape(1, -1)\n",
    "predicted_price = ensemble.predict(current_features)[0]\n",
    "current_price = y.iloc[-1]\n",
    "print(\"Predicted price:\", predicted_price)\n",
    "print(\"Current price: {:.2f}\".format(current_price))\n",
    "\n",
    "# Forecast returns for different horizons\n",
    "returns = {}\n",
    "\n",
    "for horizon in [1, 2, 5, 7]:\n",
    "    feature_horizon = X.iloc[-horizon].values.reshape(1, -1)\n",
    "\n",
    "    # Make prediction\n",
    "    pred = ensemble.predict(feature_horizon)[0]\n",
    "\n",
    "    # Calculate return\n",
    "    ret = (pred / current_price - 1) * 100\n",
    "\n",
    "    returns[horizon] = ret\n",
    "\n",
    "# Print recommendation\n",
    "if predicted_price < current_price:\n",
    "    print(\"SELL - Expected Return: {:.2f}% 1 week later\".format(returns[7]))\n",
    "else:\n",
    "    print(\"BUY - Expected Return: +{:.2f}% 1 week later\".format(returns[7]))\n",
    "\n",
    "# Hold recommendation\n",
    "already_bought = True\n",
    "\n",
    "if already_bought:\n",
    "    print(\"Already bought - Hold for more returns:\")\n",
    "    for days, ret in returns.items():\n",
    "        print(\"Return in {} days: {:.2f}%\".format(days, ret))\n"
   ]
  },
  {
   "cell_type": "code",
   "execution_count": null,
   "id": "96ca057e",
   "metadata": {},
   "outputs": [],
   "source": []
  },
  {
   "cell_type": "code",
   "execution_count": null,
   "id": "1534ae8f",
   "metadata": {},
   "outputs": [],
   "source": []
  }
 ],
 "metadata": {
  "kernelspec": {
   "display_name": "Python 3 (ipykernel)",
   "language": "python",
   "name": "python3"
  },
  "language_info": {
   "codemirror_mode": {
    "name": "ipython",
    "version": 3
   },
   "file_extension": ".py",
   "mimetype": "text/x-python",
   "name": "python",
   "nbconvert_exporter": "python",
   "pygments_lexer": "ipython3",
   "version": "3.10.12"
  }
 },
 "nbformat": 4,
 "nbformat_minor": 5
}
